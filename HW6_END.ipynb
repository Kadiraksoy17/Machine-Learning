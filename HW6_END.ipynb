{
 "cells": [
  {
   "cell_type": "code",
   "execution_count": 1,
   "id": "45904344",
   "metadata": {},
   "outputs": [],
   "source": [
    "import cvxopt as cvx\n",
    "import matplotlib.pyplot as plt\n",
    "import numpy as np\n",
    "import pandas as pd\n",
    "import scipy.spatial.distance as dt\n"
   ]
  },
  {
   "cell_type": "code",
   "execution_count": 2,
   "id": "2bec6480",
   "metadata": {},
   "outputs": [],
   "source": [
    "\n",
    "# generating the data\n",
    "images = np.genfromtxt(\"hw06_images.csv\", delimiter = \",\")\n",
    "labels = np.genfromtxt(\"hw06_labels.csv\", delimiter = \",\")\n",
    "\n",
    "# set the first 1000 data as training data\n",
    "X_train = images[0:1000,:]\n",
    "y_train = labels[0:1000].astype(int)\n",
    "\n",
    "# set the remaining 4000 data as testing data\n",
    "X_test = images[1000:5000,:]\n",
    "y_test = labels[1000:5000].astype(int)\n",
    "\n",
    "# get number of samples and number of features\n",
    "N_train = len(y_train)\n",
    "N_test = len(y_test)\n",
    "D_train = X_train.shape[1]"
   ]
  },
  {
   "cell_type": "code",
   "execution_count": 3,
   "id": "2ae89d0e",
   "metadata": {},
   "outputs": [],
   "source": [
    "# define Gaussian kernel function\n",
    "def gaussian_kernel(X1, X2, s):\n",
    "    D = dt.cdist(X1, X2)\n",
    "    K = np.exp(-D**2 / (2 * s**2))\n",
    "    return(K)"
   ]
  },
  {
   "cell_type": "code",
   "execution_count": null,
   "id": "c73e6c6f",
   "metadata": {},
   "outputs": [
    {
     "name": "stdout",
     "output_type": "stream",
     "text": [
      "     pcost       dcost       gap    pres   dres\n",
      " 0:  2.9600e+01 -4.2260e+04  8e+04  4e-01  3e-14\n",
      " 1:  1.2992e+01 -7.4611e+03  8e+03  2e-02  4e-14\n",
      " 2: -6.2643e+02 -2.9089e+03  2e+03  4e-03  4e-14\n",
      " 3: -8.9105e+02 -1.7204e+03  8e+02  1e-03  4e-14\n",
      " 4: -1.0255e+03 -1.3482e+03  3e+02  2e-04  4e-14\n",
      " 5: -1.0893e+03 -1.1778e+03  9e+01  2e-05  4e-14\n",
      " 6: -1.1096e+03 -1.1353e+03  3e+01  3e-07  5e-14\n",
      " 7: -1.1169e+03 -1.1209e+03  4e+00  9e-14  5e-14\n",
      " 8: -1.1184e+03 -1.1185e+03  1e-01  1e-14  5e-14\n",
      " 9: -1.1185e+03 -1.1185e+03  4e-03  4e-14  5e-14\n",
      "10: -1.1185e+03 -1.1185e+03  7e-05  5e-14  5e-14\n",
      "Optimal solution found.\n"
     ]
    }
   ],
   "source": [
    "for i in range(1, 6):\n",
    "    y_train = labels[0:1000].astype(int)\n",
    "    y_train[y_train != i] = -1\n",
    "    y_train[y_train == i] = 1\n",
    "\n",
    "    s = 10\n",
    "    K_train = gaussian_kernel(X_train, X_train, s)\n",
    "    yyK = np.matmul(y_train[:, None], y_train[None, :]) * K_train\n",
    "\n",
    "    # set learning parameters\n",
    "    C = 10\n",
    "    epsilon = 1e-3\n",
    "\n",
    "    P = cvx.matrix(yyK)\n",
    "    q = cvx.matrix(-np.ones((N_train, 1)))\n",
    "    G = cvx.matrix(np.vstack((-np.eye(N_train), np.eye(N_train))))\n",
    "    h = cvx.matrix(np.vstack((np.zeros((N_train, 1)), C * np.ones((N_train, 1)))))\n",
    "    A = cvx.matrix(1.0 * y_train[None, :])\n",
    "    b = cvx.matrix(0.0)\n",
    "\n",
    "    # use cvxopt library to solve QP problems\n",
    "    result = cvx.solvers.qp(P, q, G, h, A, b)\n",
    "    alpha = np.reshape(result[\"x\"], N_train)\n",
    "    alpha[alpha < C * epsilon] = 0\n",
    "    alpha[alpha > C * (1 - epsilon)] = C\n",
    "\n",
    "    # find bias parameter\n",
    "    support_indices, = np.where(alpha != 0)\n",
    "    active_indices, = np.where(np.logical_and(alpha != 0, alpha < C))\n",
    "    w0 = np.mean(y_train[active_indices] * (\n",
    "                1 - np.matmul(yyK[np.ix_(active_indices, support_indices)], alpha[support_indices])))\n",
    "\n",
    "    globals()['f_pred%s' % i] = np.matmul(K_train, X_train[:, None] * alpha[:, None]) + w0"
   ]
  },
  {
   "cell_type": "code",
   "execution_count": null,
   "id": "bdbdbf00",
   "metadata": {},
   "outputs": [],
   "source": [
    "#Prepare f prediction list and then create confusion matrix\n",
    "\n",
    "f_lst = [f_pred1,f_pred2,f_pred3,f_pred4,f_pred5]\n",
    "y_predicted = np.zeros(N_train).astype(int)\n",
    "\n",
    "for i in range(N_train):\n",
    "    max_f = max(f_lst[0][i],f_lst[1][i],f_lst[2][i],f_lst[3][i],f_lst[4][i])\n",
    "    y_predicted[i] = np.where(max_f == f_lst)[0][0] + 1\n",
    "\n",
    "y_train = labels[0:1000].astype(int)\n",
    "confusion_matrix = pd.crosstab(np.reshape(y_predicted, N_train), y_train, rownames = ['y_predicted'], colnames = ['y_train'])\n",
    "print(confusion_matrix)\n"
   ]
  },
  {
   "cell_type": "code",
   "execution_count": null,
   "id": "13cad6b9",
   "metadata": {},
   "outputs": [],
   "source": [
    "for i in range(1, 6):\n",
    "    y_train = labels[0:1000].astype(int)\n",
    "    y_train[y_train != i] = -1\n",
    "    y_train[y_train == i] = 1\n",
    "\n",
    "    s = 10\n",
    "    K_train = gaussian_kernel(X_train, X_train, s)\n",
    "    yyK = np.matmul(y_train[:, None], y_train[None, :]) * K_train\n",
    "\n",
    "    K_test = gaussian_kernel(X_train, X_train, s)\n",
    "\n",
    "    # set learning parameters\n",
    "    C = 10\n",
    "    epsilon = 1e-3\n",
    "\n",
    "    P = cvx.matrix(yyK)\n",
    "    q = cvx.matrix(-np.ones((N_train, 1)))\n",
    "    G = cvx.matrix(np.vstack((-np.eye(N_train), np.eye(N_train))))\n",
    "    h = cvx.matrix(np.vstack((np.zeros((N_train, 1)), C * np.ones((N_train, 1)))))\n",
    "    A = cvx.matrix(1.0 * y_train[None, :])\n",
    "    b = cvx.matrix(0.0)\n",
    "\n",
    "    # use cvxopt library to solve QP problems\n",
    "    result = cvx.solvers.qp(P, q, G, h, A, b)\n",
    "    alpha = np.reshape(result[\"x\"], N_train)\n",
    "    alpha[alpha < C * epsilon] = 0\n",
    "    alpha[alpha > C * (1 - epsilon)] = C\n",
    "\n",
    "    # find bias parameter\n",
    "    support_indices, = np.where(alpha != 0)\n",
    "    active_indices, = np.where(np.logical_and(alpha != 0, alpha < C))\n",
    "    w0 = np.mean(y_train[active_indices] * (\n",
    "                1 - np.matmul(yyK[np.ix_(active_indices, support_indices)], alpha[support_indices])))\n",
    "\n",
    "    globals()['f_test_pred%s' % i] = np.matmul(K_test, y_train[:, None] * alpha[:, None]) + w0"
   ]
  },
  {
   "cell_type": "code",
   "execution_count": null,
   "id": "71d7d7c9",
   "metadata": {},
   "outputs": [],
   "source": [
    "#Prepare f test prediction list and then create confusion matrix\n",
    "\n",
    "f_test_lst = [f_test_pred1,f_test_pred2,f_test_pred3,f_test_pred4,f_test_pred5]\n",
    "y_test_predicted = np.zeros(N_test).astype(int)\n",
    "\n",
    "for i in range(N_test):\n",
    "    max_f = max(f_test_lst[0][i],f_test_lst[1][i],f_test_lst[2][i],f_test_lst[3][i],f_test_lst[4][i])\n",
    "    y_test_predicted[i] = np.where(max_f == f_test_lst)[0][0] + 1\n",
    "\n",
    "confusion_matrix = pd.crosstab(np.reshape(y_test_predicted, N_test), y_test, rownames = ['y_predicted'], colnames = ['y_train'])\n",
    "print(confusion_matrix)"
   ]
  },
  {
   "cell_type": "code",
   "execution_count": null,
   "id": "6105600a",
   "metadata": {},
   "outputs": [],
   "source": []
  }
 ],
 "metadata": {
  "kernelspec": {
   "display_name": "Python 3",
   "language": "python",
   "name": "python3"
  },
  "language_info": {
   "codemirror_mode": {
    "name": "ipython",
    "version": 3
   },
   "file_extension": ".py",
   "mimetype": "text/x-python",
   "name": "python",
   "nbconvert_exporter": "python",
   "pygments_lexer": "ipython3",
   "version": "3.8.8"
  }
 },
 "nbformat": 4,
 "nbformat_minor": 5
}
